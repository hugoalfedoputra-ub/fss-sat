{
 "cells": [
  {
   "cell_type": "code",
   "execution_count": 45,
   "metadata": {},
   "outputs": [],
   "source": [
    "import numpy as np\n",
    "import pandas as pd\n",
    "import matplotlib.pyplot as plt"
   ]
  },
  {
   "cell_type": "code",
   "execution_count": 46,
   "metadata": {},
   "outputs": [],
   "source": [
    "def read_files(freq_band):\n",
    "    scpc = \"_scpc_channel_data\"\n",
    "    mcc = \"_mcc_packet_lost\"\n",
    "    sat = \"_sat_packet_lost\"\n",
    "\n",
    "    data = pd.read_csv(freq_band + scpc + '.txt', sep=\",\", header=0)\n",
    "    real = data.head()\n",
    "\n",
    "    f = open(freq_band + mcc + '.txt', \"r\")\n",
    "    print(f.read()) \n",
    "    f.close()\n",
    "\n",
    "    f = open(freq_band + sat + '.txt', \"r\")\n",
    "    print(f.read()) \n",
    "    f.close()\n",
    "\n",
    "    print(\"Average Atmospheric Loss (dB):\", np.average(real['atmosphericLoss_dB']))\n",
    "    print(\"Stddev Atmospheric Loss (dB):\", np.std(real['atmosphericLoss_dB']))\n",
    "    print()\n",
    "\n",
    "    # Calculate power_dBm stats for every 5 lines (uplink/downlink pairs)\n",
    "    fspl_uplink = []\n",
    "    fspl_downlink = []\n",
    "    \n",
    "    for i in range(len(data)):\n",
    "        if str(data.iloc[i,0])[-2] == '.':\n",
    "            fspl_uplink.append(data.iloc[i,2])\n",
    "        else:\n",
    "            fspl_downlink.append(data.iloc[i,2])\n",
    "\n",
    "    print(f\"Average uplink FSPL (dB): {np.average(fspl_uplink):.3f}\")\n",
    "    print(f\"Stddev uplink FSPL (dB): {np.std(fspl_uplink):.3f}\")\n",
    "\n",
    "    print(f\"Average downlink FSPL (dB): {np.average(fspl_downlink):.3f}\")\n",
    "    print(f\"Stddev downlink FSPL (dB): {np.std(fspl_downlink):.3f}\")\n",
    "    print()\n",
    "\n",
    "    # Calculate power_dBm stats for every 5 lines (uplink/downlink pairs)\n",
    "    power_dBm_uplink = []\n",
    "    power_dBm_downlink = []\n",
    "    \n",
    "    for i in range(len(data)):\n",
    "        if str(data.iloc[i,0])[-2] == '.':\n",
    "            power_dBm_uplink.append(data.iloc[i,3])\n",
    "        else:\n",
    "            power_dBm_downlink.append(data.iloc[i,3])\n",
    "\n",
    "    print(f\"Average uplink power (dBm): {np.average(power_dBm_uplink):.3f}\")\n",
    "    print(f\"Stddev uplink power (dBm): {np.std(power_dBm_uplink):.3f}\")\n",
    "\n",
    "    print(f\"Average downlink power (dBm): {np.average(power_dBm_downlink):.3f}\")\n",
    "    print(f\"Stddev downlink power (dBm): {np.std(power_dBm_downlink):.3f}\")"
   ]
  },
  {
   "cell_type": "code",
   "execution_count": 47,
   "metadata": {},
   "outputs": [
    {
     "name": "stdout",
     "output_type": "stream",
     "text": [
      "MCC 0: Packets Lost = 0\n",
      "MCC 1: Packets Lost = 0\n",
      "MCC 2: Packets Lost = 0\n",
      "MCC 3: Packets Lost = 0\n",
      "MCC 4: Packets Lost = 0\n",
      "\n",
      "Satellite: Packets Lost = 0\n",
      "\n",
      "Average Atmospheric Loss (dB): 0.0\n",
      "Stddev Atmospheric Loss (dB): 0.0\n",
      "\n",
      "Average uplink FSPL (dB): 199.220\n",
      "Stddev uplink FSPL (dB): 0.091\n",
      "Average downlink FSPL (dB): 195.739\n",
      "Stddev downlink FSPL (dB): 0.106\n",
      "\n",
      "Average uplink power (dBm): -76.667\n",
      "Stddev uplink power (dBm): 0.091\n",
      "Average downlink power (dBm): -108.307\n",
      "Stddev downlink power (dBm): 0.155\n"
     ]
    }
   ],
   "source": [
    "read_files(\"C-Band-Sunny\")"
   ]
  },
  {
   "cell_type": "code",
   "execution_count": 48,
   "metadata": {},
   "outputs": [
    {
     "name": "stdout",
     "output_type": "stream",
     "text": [
      "MCC 0: Packets Lost = 0\n",
      "MCC 1: Packets Lost = 0\n",
      "MCC 2: Packets Lost = 0\n",
      "MCC 3: Packets Lost = 0\n",
      "MCC 4: Packets Lost = 0\n",
      "\n",
      "Satellite: Packets Lost = 0\n",
      "\n",
      "Average Atmospheric Loss (dB): 0.4953058\n",
      "Stddev Atmospheric Loss (dB): 0.007975233699397148\n",
      "\n",
      "Average uplink FSPL (dB): 199.220\n",
      "Stddev uplink FSPL (dB): 0.091\n",
      "Average downlink FSPL (dB): 195.741\n",
      "Stddev downlink FSPL (dB): 0.106\n",
      "\n",
      "Average uplink power (dBm): -77.163\n",
      "Stddev uplink power (dBm): 0.097\n",
      "Average downlink power (dBm): -109.001\n",
      "Stddev downlink power (dBm): 0.162\n"
     ]
    }
   ],
   "source": [
    "read_files(\"C-Band-Rainy\")"
   ]
  },
  {
   "cell_type": "code",
   "execution_count": 49,
   "metadata": {},
   "outputs": [
    {
     "name": "stdout",
     "output_type": "stream",
     "text": [
      "MCC 0: Packets Lost = 0\n",
      "MCC 1: Packets Lost = 0\n",
      "MCC 2: Packets Lost = 0\n",
      "MCC 3: Packets Lost = 0\n",
      "MCC 4: Packets Lost = 0\n",
      "\n",
      "Satellite: Packets Lost = 0\n",
      "\n",
      "Average Atmospheric Loss (dB): 1.260162\n",
      "Stddev Atmospheric Loss (dB): 0.020289870773368662\n",
      "\n",
      "Average uplink FSPL (dB): 199.220\n",
      "Stddev uplink FSPL (dB): 0.091\n",
      "Average downlink FSPL (dB): 195.741\n",
      "Stddev downlink FSPL (dB): 0.107\n",
      "\n",
      "Average uplink power (dBm): -77.928\n",
      "Stddev uplink power (dBm): 0.107\n",
      "Average downlink power (dBm): -110.070\n",
      "Stddev downlink power (dBm): 0.170\n"
     ]
    }
   ],
   "source": [
    "read_files(\"C-Band-HeavyRain\")"
   ]
  },
  {
   "cell_type": "code",
   "execution_count": 50,
   "metadata": {},
   "outputs": [
    {
     "name": "stdout",
     "output_type": "stream",
     "text": [
      "MCC 0: Packets Lost = 912\n",
      "MCC 1: Packets Lost = 1013\n",
      "MCC 2: Packets Lost = 955\n",
      "MCC 3: Packets Lost = 992\n",
      "MCC 4: Packets Lost = 916\n",
      "\n",
      "Satellite: Packets Lost = 0\n",
      "\n",
      "Average Atmospheric Loss (dB): 0.0\n",
      "Stddev Atmospheric Loss (dB): 0.0\n",
      "\n",
      "Average uplink FSPL (dB): 206.531\n",
      "Stddev uplink FSPL (dB): 0.068\n",
      "Average downlink FSPL (dB): 205.198\n",
      "Stddev downlink FSPL (dB): 0.066\n",
      "\n",
      "Average uplink power (dBm): -83.978\n",
      "Stddev uplink power (dBm): 0.068\n",
      "Average downlink power (dBm): -125.076\n",
      "Stddev downlink power (dBm): 0.126\n"
     ]
    }
   ],
   "source": [
    "read_files(\"Ku-Band-Sunny\")"
   ]
  },
  {
   "cell_type": "code",
   "execution_count": 51,
   "metadata": {},
   "outputs": [
    {
     "name": "stdout",
     "output_type": "stream",
     "text": [
      "MCC 0: Packets Lost = 892\n",
      "MCC 1: Packets Lost = 948\n",
      "MCC 2: Packets Lost = 985\n",
      "MCC 3: Packets Lost = 937\n",
      "MCC 4: Packets Lost = 838\n",
      "\n",
      "Satellite: Packets Lost = 0\n",
      "\n",
      "Average Atmospheric Loss (dB): 3.431838\n",
      "Stddev Atmospheric Loss (dB): 0.023819631735188498\n",
      "\n",
      "Average uplink FSPL (dB): 206.531\n",
      "Stddev uplink FSPL (dB): 0.068\n",
      "Average downlink FSPL (dB): 205.197\n",
      "Stddev downlink FSPL (dB): 0.065\n",
      "\n",
      "Average uplink power (dBm): -87.410\n",
      "Stddev uplink power (dBm): 0.083\n",
      "Average downlink power (dBm): -130.918\n",
      "Stddev downlink power (dBm): 0.137\n"
     ]
    }
   ],
   "source": [
    "read_files(\"Ku-Band-Rainy\")"
   ]
  },
  {
   "cell_type": "code",
   "execution_count": 52,
   "metadata": {},
   "outputs": [
    {
     "name": "stdout",
     "output_type": "stream",
     "text": [
      "MCC 0: Packets Lost = 890\n",
      "MCC 1: Packets Lost = 965\n",
      "MCC 2: Packets Lost = 928\n",
      "MCC 3: Packets Lost = 978\n",
      "MCC 4: Packets Lost = 885\n",
      "\n",
      "Satellite: Packets Lost = 0\n",
      "\n",
      "Average Atmospheric Loss (dB): 8.731318\n",
      "Stddev Atmospheric Loss (dB): 0.06059630199937978\n",
      "\n",
      "Average uplink FSPL (dB): 206.531\n",
      "Stddev uplink FSPL (dB): 0.068\n",
      "Average downlink FSPL (dB): 205.198\n",
      "Stddev downlink FSPL (dB): 0.066\n",
      "\n",
      "Average uplink power (dBm): -92.709\n",
      "Stddev uplink power (dBm): 0.112\n",
      "Average downlink power (dBm): -139.942\n",
      "Stddev downlink power (dBm): 0.164\n"
     ]
    }
   ],
   "source": [
    "read_files(\"Ku-Band-HeavyRain\")"
   ]
  },
  {
   "cell_type": "code",
   "execution_count": 53,
   "metadata": {},
   "outputs": [
    {
     "name": "stdout",
     "output_type": "stream",
     "text": [
      "MCC 0: Packets Lost = 838\n",
      "MCC 1: Packets Lost = 894\n",
      "MCC 2: Packets Lost = 864\n",
      "MCC 3: Packets Lost = 886\n",
      "MCC 4: Packets Lost = 881\n",
      "\n",
      "Satellite: Packets Lost = 0\n",
      "\n",
      "Average Atmospheric Loss (dB): 0.0\n",
      "Stddev Atmospheric Loss (dB): 0.0\n",
      "\n",
      "Average uplink FSPL (dB): 213.131\n",
      "Stddev uplink FSPL (dB): 0.062\n",
      "Average downlink FSPL (dB): 209.618\n",
      "Stddev downlink FSPL (dB): 0.061\n",
      "\n",
      "Average uplink power (dBm): -90.578\n",
      "Stddev uplink power (dBm): 0.062\n",
      "Average downlink power (dBm): -136.096\n",
      "Stddev downlink power (dBm): 0.121\n"
     ]
    }
   ],
   "source": [
    "read_files(\"Ka-Band-Sunny\")"
   ]
  },
  {
   "cell_type": "code",
   "execution_count": 54,
   "metadata": {},
   "outputs": [
    {
     "name": "stdout",
     "output_type": "stream",
     "text": [
      "MCC 0: Packets Lost = 0\n",
      "MCC 1: Packets Lost = 0\n",
      "MCC 2: Packets Lost = 0\n",
      "MCC 3: Packets Lost = 0\n",
      "MCC 4: Packets Lost = 0\n",
      "\n",
      "Satellite: Packets Lost = 5705\n",
      "\n",
      "Average Atmospheric Loss (dB): 19.70292\n",
      "Stddev Atmospheric Loss (dB): 0.06395074354532525\n",
      "\n",
      "Average uplink FSPL (dB): 213.131\n",
      "Stddev uplink FSPL (dB): 0.062\n",
      "Average downlink FSPL (dB): nan\n",
      "Stddev downlink FSPL (dB): nan\n",
      "\n",
      "Average uplink power (dBm): -110.281\n",
      "Stddev uplink power (dBm): 0.103\n",
      "Average downlink power (dBm): nan\n",
      "Stddev downlink power (dBm): nan\n"
     ]
    },
    {
     "name": "stderr",
     "output_type": "stream",
     "text": [
      "C:\\Users\\guido\\AppData\\Local\\Packages\\PythonSoftwareFoundation.Python.3.11_qbz5n2kfra8p0\\LocalCache\\local-packages\\Python311\\site-packages\\numpy\\lib\\function_base.py:520: RuntimeWarning: Mean of empty slice.\n",
      "  avg = a.mean(axis, **keepdims_kw)\n",
      "C:\\Users\\guido\\AppData\\Local\\Packages\\PythonSoftwareFoundation.Python.3.11_qbz5n2kfra8p0\\LocalCache\\local-packages\\Python311\\site-packages\\numpy\\core\\_methods.py:129: RuntimeWarning: invalid value encountered in scalar divide\n",
      "  ret = ret.dtype.type(ret / rcount)\n",
      "C:\\Users\\guido\\AppData\\Local\\Packages\\PythonSoftwareFoundation.Python.3.11_qbz5n2kfra8p0\\LocalCache\\local-packages\\Python311\\site-packages\\numpy\\core\\_methods.py:206: RuntimeWarning: Degrees of freedom <= 0 for slice\n",
      "  ret = _var(a, axis=axis, dtype=dtype, out=out, ddof=ddof,\n",
      "C:\\Users\\guido\\AppData\\Local\\Packages\\PythonSoftwareFoundation.Python.3.11_qbz5n2kfra8p0\\LocalCache\\local-packages\\Python311\\site-packages\\numpy\\core\\_methods.py:163: RuntimeWarning: invalid value encountered in divide\n",
      "  arrmean = um.true_divide(arrmean, div, out=arrmean,\n",
      "C:\\Users\\guido\\AppData\\Local\\Packages\\PythonSoftwareFoundation.Python.3.11_qbz5n2kfra8p0\\LocalCache\\local-packages\\Python311\\site-packages\\numpy\\core\\_methods.py:198: RuntimeWarning: invalid value encountered in scalar divide\n",
      "  ret = ret.dtype.type(ret / rcount)\n"
     ]
    }
   ],
   "source": [
    "read_files(\"Ka-Band-Rainy\")"
   ]
  },
  {
   "cell_type": "code",
   "execution_count": 55,
   "metadata": {},
   "outputs": [
    {
     "name": "stdout",
     "output_type": "stream",
     "text": [
      "MCC 0: Packets Lost = 0\n",
      "MCC 1: Packets Lost = 0\n",
      "MCC 2: Packets Lost = 0\n",
      "MCC 3: Packets Lost = 0\n",
      "MCC 4: Packets Lost = 0\n",
      "\n",
      "Satellite: Packets Lost = 5625\n",
      "\n",
      "Average Atmospheric Loss (dB): 50.12836\n",
      "Stddev Atmospheric Loss (dB): 0.1627194591928089\n",
      "\n",
      "Average uplink FSPL (dB): 213.131\n",
      "Stddev uplink FSPL (dB): 0.062\n",
      "Average downlink FSPL (dB): nan\n",
      "Stddev downlink FSPL (dB): nan\n",
      "\n",
      "Average uplink power (dBm): -140.706\n",
      "Stddev uplink power (dBm): 0.192\n",
      "Average downlink power (dBm): nan\n",
      "Stddev downlink power (dBm): nan\n"
     ]
    },
    {
     "name": "stderr",
     "output_type": "stream",
     "text": [
      "C:\\Users\\guido\\AppData\\Local\\Packages\\PythonSoftwareFoundation.Python.3.11_qbz5n2kfra8p0\\LocalCache\\local-packages\\Python311\\site-packages\\numpy\\lib\\function_base.py:520: RuntimeWarning: Mean of empty slice.\n",
      "  avg = a.mean(axis, **keepdims_kw)\n",
      "C:\\Users\\guido\\AppData\\Local\\Packages\\PythonSoftwareFoundation.Python.3.11_qbz5n2kfra8p0\\LocalCache\\local-packages\\Python311\\site-packages\\numpy\\core\\_methods.py:129: RuntimeWarning: invalid value encountered in scalar divide\n",
      "  ret = ret.dtype.type(ret / rcount)\n",
      "C:\\Users\\guido\\AppData\\Local\\Packages\\PythonSoftwareFoundation.Python.3.11_qbz5n2kfra8p0\\LocalCache\\local-packages\\Python311\\site-packages\\numpy\\core\\_methods.py:206: RuntimeWarning: Degrees of freedom <= 0 for slice\n",
      "  ret = _var(a, axis=axis, dtype=dtype, out=out, ddof=ddof,\n",
      "C:\\Users\\guido\\AppData\\Local\\Packages\\PythonSoftwareFoundation.Python.3.11_qbz5n2kfra8p0\\LocalCache\\local-packages\\Python311\\site-packages\\numpy\\core\\_methods.py:163: RuntimeWarning: invalid value encountered in divide\n",
      "  arrmean = um.true_divide(arrmean, div, out=arrmean,\n",
      "C:\\Users\\guido\\AppData\\Local\\Packages\\PythonSoftwareFoundation.Python.3.11_qbz5n2kfra8p0\\LocalCache\\local-packages\\Python311\\site-packages\\numpy\\core\\_methods.py:198: RuntimeWarning: invalid value encountered in scalar divide\n",
      "  ret = ret.dtype.type(ret / rcount)\n"
     ]
    }
   ],
   "source": [
    "read_files(\"Ka-Band-HeavyRain\")"
   ]
  },
  {
   "cell_type": "code",
   "execution_count": 60,
   "metadata": {},
   "outputs": [
    {
     "name": "stdout",
     "output_type": "stream",
     "text": [
      "MCC 0: Packets Sent = 18798\n",
      "MCC 0: Packets Lost = 7731\n",
      "MCC 1: Packets Sent = 18797\n",
      "MCC 1: Packets Lost = 0\n",
      "MCC 2: Packets Sent = 18797\n",
      "MCC 2: Packets Lost = 7172\n",
      "MCC 3: Packets Sent = 18797\n",
      "MCC 3: Packets Lost = 0\n",
      "MCC 4: Packets Sent = 18797\n",
      "MCC 4: Packets Lost = 0\n",
      "\n",
      "Satellite: Packets Sent = 85632\n",
      "Satellite: Packets Lost = 8348\n",
      "\n",
      "Average Atmospheric Loss (dB): 0.27218700000000007\n",
      "Stddev Atmospheric Loss (dB): 0.13623569333328178\n",
      "\n",
      "Average uplink FSPL (dB): 199.220\n",
      "Stddev uplink FSPL (dB): 0.091\n",
      "Average downlink FSPL (dB): 195.749\n",
      "Stddev downlink FSPL (dB): 0.108\n",
      "\n",
      "Average uplink power (dBm): -80.314\n",
      "Stddev uplink power (dBm): 5.436\n",
      "Average downlink power (dBm): -112.038\n",
      "Stddev downlink power (dBm): 6.229\n"
     ]
    }
   ],
   "source": [
    "read_files(\"C-Band-Variable\")"
   ]
  }
 ],
 "metadata": {
  "kernelspec": {
   "display_name": "Python 3",
   "language": "python",
   "name": "python3"
  },
  "language_info": {
   "codemirror_mode": {
    "name": "ipython",
    "version": 3
   },
   "file_extension": ".py",
   "mimetype": "text/x-python",
   "name": "python",
   "nbconvert_exporter": "python",
   "pygments_lexer": "ipython3",
   "version": "3.11.9"
  }
 },
 "nbformat": 4,
 "nbformat_minor": 2
}
