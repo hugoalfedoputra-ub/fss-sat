{
 "cells": [
  {
   "cell_type": "code",
   "execution_count": 16,
   "metadata": {},
   "outputs": [],
   "source": [
    "import numpy as np\n",
    "import pandas as pd\n",
    "import matplotlib.pyplot as plt"
   ]
  },
  {
   "cell_type": "code",
   "execution_count": 17,
   "metadata": {},
   "outputs": [],
   "source": [
    "def read_files(freq_band):\n",
    "    scpc = \"_scpc_channel_data\"\n",
    "    mcc = \"_mcc_packet_lost\"\n",
    "    sat = \"_sat_packet_lost\"\n",
    "\n",
    "    data = pd.read_csv(freq_band + scpc + '.txt', sep=\",\", header=0)\n",
    "    real = data.head()\n",
    "\n",
    "    f = open(freq_band + mcc + '.txt', \"r\")\n",
    "    print(f.read()) \n",
    "    f.close()\n",
    "\n",
    "    f = open(freq_band + sat + '.txt', \"r\")\n",
    "    print(f.read()) \n",
    "    f.close()\n",
    "\n",
    "    # Calculate power_dBm stats for every 5 lines (uplink/downlink pairs)\n",
    "    atmosl_uplink = []\n",
    "    atmosl_downlink = []\n",
    "\n",
    "    for i in range(len(data)):\n",
    "        if str(data.iloc[i,0])[-2] == '.':\n",
    "            atmosl_uplink.append(data.iloc[i,1])\n",
    "        else:\n",
    "            atmosl_downlink.append(data.iloc[i,1])\n",
    "\n",
    "    print(f\"Average uplink Atmospheric loss (dB): {np.average(atmosl_uplink):.3f}\")\n",
    "    print(f\"Stddev uplink Atmospheric loss (dB): {np.std(atmosl_uplink):.3f}\")\n",
    "\n",
    "    print(f\"Average downlink Atmospheric loss (dB): {np.average(atmosl_downlink):.3f}\")\n",
    "    print(f\"Stddev downlink Atmospheric loss (dB): {np.std(atmosl_downlink):.3f}\")\n",
    "    print()\n",
    "\n",
    "    # Calculate power_dBm stats for every 5 lines (uplink/downlink pairs)\n",
    "    fspl_uplink = []\n",
    "    fspl_downlink = []\n",
    "    \n",
    "    for i in range(len(data)):\n",
    "        if str(data.iloc[i,0])[-2] == '.':\n",
    "            fspl_uplink.append(data.iloc[i,2])\n",
    "        else:\n",
    "            fspl_downlink.append(data.iloc[i,2])\n",
    "\n",
    "    print(f\"Average uplink FSPL (dB): {np.average(fspl_uplink):.3f}\")\n",
    "    print(f\"Stddev uplink FSPL (dB): {np.std(fspl_uplink):.3f}\")\n",
    "\n",
    "    print(f\"Average downlink FSPL (dB): {np.average(fspl_downlink):.3f}\")\n",
    "    print(f\"Stddev downlink FSPL (dB): {np.std(fspl_downlink):.3f}\")\n",
    "    print()\n",
    "\n",
    "    # Calculate power_dBm stats for every 5 lines (uplink/downlink pairs)\n",
    "    power_dBm_uplink = []\n",
    "    power_dBm_downlink = []\n",
    "    \n",
    "    for i in range(len(data)):\n",
    "        if str(data.iloc[i,0])[-2] == '.':\n",
    "            power_dBm_uplink.append(data.iloc[i,3])\n",
    "        else:\n",
    "            power_dBm_downlink.append(data.iloc[i,3])\n",
    "\n",
    "    print(f\"Average uplink power (dBm): {np.average(power_dBm_uplink):.3f}\")\n",
    "    print(f\"Stddev uplink power (dBm): {np.std(power_dBm_uplink):.3f}\")\n",
    "\n",
    "    print(f\"Average downlink power (dBm): {np.average(power_dBm_downlink):.3f}\")\n",
    "    print(f\"Stddev downlink power (dBm): {np.std(power_dBm_downlink):.3f}\")\n",
    "\n",
    "\n",
    "def read_and_plot_files(freq_band):\n",
    "    read_files(freq_band)\n",
    "\n",
    "    scpc_file = freq_band + \"_scpc_channel_data.txt\"\n",
    "    raw_scpc_data = pd.read_csv(scpc_file, sep=\",\", header=0)\n",
    "    ul_scpc_data = raw_scpc_data[~raw_scpc_data['simTime'].astype(str).str.contains(\"000\")]\n",
    "\n",
    "    weather_file = freq_band + \"_mcc_weather_data.txt\"\n",
    "    raw_weather_data = pd.read_csv(weather_file, sep=\",\", header=0)\n",
    "    ul_weather_data = raw_weather_data[~raw_weather_data['simTime'].astype(str).str.contains(\"0001\")]\n",
    "\n",
    "    dl_scpc_data = raw_scpc_data[raw_scpc_data['simTime'].astype(str).str.contains(\"000\")]\n",
    "    \n",
    "    uplink_packet_loss_file = freq_band + \"_sat_packet_loss_details.txt\"\n",
    "    upl_data = pd.read_csv(uplink_packet_loss_file, sep=\",\", header=0)\n",
    "\n",
    "    downlink_packet_loss_file = freq_band + \"_mcc_packet_loss_details.txt\"\n",
    "    downl_data = pd.read_csv(downlink_packet_loss_file, sep=\",\", header=0)\n",
    "\n",
    "    num_mccs = ul_weather_data['MCCIndex'].max() + 1\n",
    "\n",
    "    for mcc_index in range(num_mccs):\n",
    "        try:\n",
    "            # Generic sim_time for all (doesn't really matter)\n",
    "            sim_time = ul_weather_data.loc[ul_weather_data['MCCIndex'] == mcc_index, 'simTime']\n",
    "\n",
    "            # Except for this because of the extra comma precisions\n",
    "            packet_loss_downl_sim_time = downl_data.loc[downl_data['MCC_idx'] == mcc_index, 'simTime']\n",
    "\n",
    "            dl_sim_time = dl_scpc_data.loc[dl_scpc_data['MCC_idx'] == mcc_index, 'simTime']\n",
    "\n",
    "            # Get data to plot per MCC\n",
    "            weather_data_to_plot = ul_weather_data.loc[ul_weather_data['MCCIndex'] == mcc_index, 'specWeatherModel']\n",
    "            atmospheric_loss = ul_scpc_data.loc[ul_scpc_data['MCC_idx'] == mcc_index, 'atmosphericLoss_dB'].values\n",
    "            upl = upl_data.loc[upl_data['MCC_idx'] == mcc_index, 'packet_is_loss']\n",
    "            downl = downl_data.loc[downl_data['MCC_idx'] == mcc_index, 'packet_is_loss']\n",
    "\n",
    "            dl_loss_data = dl_scpc_data.loc[dl_scpc_data['MCC_idx'] == mcc_index]\n",
    "\n",
    "            _, axes1 = plt.subplots(2, 1, figsize=(12, 8), sharex=True)\n",
    "\n",
    "            # Plot 1: Uplink weather and atmospheric loss\n",
    "            axes1[0].plot(sim_time, weather_data_to_plot, label=f'Weather (mm of rain)', color='blue')\n",
    "            axes1[0].plot(sim_time, atmospheric_loss, label=f'Atmospheric Loss (dB)', color='red')\n",
    "            axes1[0].title.set_text(f'Weather at MCC {mcc_index} and Atmospheric Loss during Uplink at {freq_band.split(\"-\")[0]} {freq_band.split(\"-\")[1]} frequency')\n",
    "            axes1[0].set_xlabel('Simulation Time')\n",
    "            axes1[0].legend()\n",
    "            axes1[0].grid(True)\n",
    "\n",
    "            # Plot 2: Uplink packet loss\n",
    "            axes1[1].plot(sim_time, upl, label=f'Uplink Packet Loss', color='green', drawstyle=\"steps-post\")\n",
    "            axes1[1].set_xlabel('Simulation Time')\n",
    "            axes1[1].set_ylabel('Packet Loss (0/1)')\n",
    "            axes1[1].title.set_text(f'Uplink Packet Loss from MCC {mcc_index}')\n",
    "            axes1[1].grid(True)\n",
    "            plt.show()\n",
    "\n",
    "            _, axes2 = plt.subplots(2, 1, figsize=(12, 8), sharex=True)\n",
    "            # Plot 3: Downlink weather and atmospheric loss\n",
    "            axes2[0].plot(dl_sim_time, dl_loss_data['weatherAtMCC'], label=f'Weather (mm of rain)', color='blue')\n",
    "            axes2[0].plot(dl_sim_time, dl_loss_data['atmosphericLoss_dB'], label=f'Atmospheric Loss (dB)', color='red')\n",
    "            axes2[0].title.set_text(f'Weather at MCC {mcc_index} and Atmospheric Loss during Downlink at {freq_band.split(\"-\")[0]} {freq_band.split(\"-\")[1]} frequency')\n",
    "            axes2[0].set_xlabel('Simulation Time')\n",
    "            axes2[0].legend()\n",
    "            axes2[0].grid(True)\n",
    "\n",
    "            # Plot 4: Downlink packet loss\n",
    "            axes2[1].plot(packet_loss_downl_sim_time, downl, label=f'Downlink Packet Loss', color='purple', drawstyle=\"steps-post\") # Different color for downlink\n",
    "            axes2[1].title.set_text(f'Downlink Packet Loss to MCC {mcc_index}')\n",
    "            axes2[1].set_xlabel('Simulation Time')\n",
    "            axes2[1].set_ylabel('Packet Loss (0/1)')\n",
    "            axes2[1].grid(True)\n",
    "            plt.show()\n",
    "            \n",
    "        except:\n",
    "            print('err')"
   ]
  },
  {
   "cell_type": "markdown",
   "metadata": {},
   "source": [
    "# Dynamic Weather Data"
   ]
  },
  {
   "cell_type": "markdown",
   "metadata": {},
   "source": [
    "## C-Band"
   ]
  },
  {
   "cell_type": "code",
   "execution_count": 18,
   "metadata": {},
   "outputs": [
    {
     "name": "stdout",
     "output_type": "stream",
     "text": [
      "MCC 0: Packets Sent = 1014\n",
      "MCC 0: Packets Lost = 0\n",
      "MCC 1: Packets Sent = 1014\n",
      "MCC 1: Packets Lost = 0\n",
      "MCC 2: Packets Sent = 1014\n",
      "MCC 2: Packets Lost = 0\n",
      "MCC 3: Packets Sent = 1014\n",
      "MCC 3: Packets Lost = 0\n",
      "MCC 4: Packets Sent = 1014\n",
      "MCC 4: Packets Lost = 0\n",
      "\n",
      "Satellite: Packets Sent = 5062\n",
      "Satellite: Packets Lost = 0\n",
      "\n",
      "Average uplink Atmospheric loss (dB): 2.000\n",
      "Stddev uplink Atmospheric loss (dB): 1.414\n",
      "Average downlink Atmospheric loss (dB): 1.977\n",
      "Stddev downlink Atmospheric loss (dB): 1.409\n",
      "\n",
      "Average uplink FSPL (dB): 0.001\n",
      "Stddev uplink FSPL (dB): 0.002\n",
      "Average downlink FSPL (dB): 0.000\n",
      "Stddev downlink FSPL (dB): 0.000\n",
      "\n",
      "Average uplink power (dBm): 0.037\n",
      "Stddev uplink power (dBm): 0.118\n",
      "Average downlink power (dBm): 0.070\n",
      "Stddev downlink power (dBm): 0.226\n",
      "err\n",
      "err\n",
      "err\n",
      "err\n",
      "err\n"
     ]
    }
   ],
   "source": [
    "read_and_plot_files(\"C-Band-Variable\")"
   ]
  },
  {
   "cell_type": "markdown",
   "metadata": {},
   "source": [
    "## Ku-Band"
   ]
  },
  {
   "cell_type": "code",
   "execution_count": 19,
   "metadata": {},
   "outputs": [
    {
     "name": "stdout",
     "output_type": "stream",
     "text": [
      "MCC 0: Packets Sent = 1041\n",
      "MCC 0: Packets Lost = 870\n",
      "MCC 1: Packets Sent = 1041\n",
      "MCC 1: Packets Lost = 936\n",
      "MCC 2: Packets Sent = 1041\n",
      "MCC 2: Packets Lost = 927\n",
      "MCC 3: Packets Sent = 1041\n",
      "MCC 3: Packets Lost = 907\n",
      "MCC 4: Packets Sent = 1041\n",
      "MCC 4: Packets Lost = 875\n",
      "\n",
      "Satellite: Packets Sent = 5195\n",
      "Satellite: Packets Lost = 0\n",
      "\n",
      "Average uplink Atmospheric loss (dB): 2.000\n",
      "Stddev uplink Atmospheric loss (dB): 1.414\n",
      "Average downlink Atmospheric loss (dB): 2.009\n",
      "Stddev downlink Atmospheric loss (dB): 1.412\n",
      "\n",
      "Average uplink FSPL (dB): 0.023\n",
      "Stddev uplink FSPL (dB): 0.065\n",
      "Average downlink FSPL (dB): 0.016\n",
      "Stddev downlink FSPL (dB): 0.047\n",
      "\n",
      "Average uplink power (dBm): 0.009\n",
      "Stddev uplink power (dBm): 0.027\n",
      "Average downlink power (dBm): 0.011\n",
      "Stddev downlink power (dBm): 0.033\n",
      "err\n",
      "err\n",
      "err\n",
      "err\n",
      "err\n"
     ]
    }
   ],
   "source": [
    "read_and_plot_files(\"Ku-Band-Variable\")"
   ]
  },
  {
   "cell_type": "markdown",
   "metadata": {},
   "source": [
    "## Ka-Band"
   ]
  },
  {
   "cell_type": "code",
   "execution_count": 20,
   "metadata": {},
   "outputs": [
    {
     "name": "stdout",
     "output_type": "stream",
     "text": [
      "MCC 0: Packets Sent = 1080\n",
      "MCC 0: Packets Lost = 0\n",
      "MCC 1: Packets Sent = 1080\n",
      "MCC 1: Packets Lost = 0\n",
      "MCC 2: Packets Sent = 1079\n",
      "MCC 2: Packets Lost = 0\n",
      "MCC 3: Packets Sent = 1079\n",
      "MCC 3: Packets Lost = 0\n",
      "MCC 4: Packets Sent = 1079\n",
      "MCC 4: Packets Lost = 0\n",
      "\n",
      "Satellite: Packets Sent = 0\n",
      "Satellite: Packets Lost = 5390\n",
      "\n",
      "Average uplink Atmospheric loss (dB): 1.999\n",
      "Stddev uplink Atmospheric loss (dB): 1.414\n",
      "Average downlink Atmospheric loss (dB): nan\n",
      "Stddev downlink Atmospheric loss (dB): nan\n",
      "\n",
      "Average uplink FSPL (dB): 0.261\n",
      "Stddev uplink FSPL (dB): 0.616\n",
      "Average downlink FSPL (dB): nan\n",
      "Stddev downlink FSPL (dB): nan\n",
      "\n",
      "Average uplink power (dBm): 0.037\n",
      "Stddev uplink power (dBm): 0.098\n",
      "Average downlink power (dBm): nan\n",
      "Stddev downlink power (dBm): nan\n",
      "err\n",
      "err\n",
      "err\n",
      "err\n",
      "err\n"
     ]
    },
    {
     "name": "stderr",
     "output_type": "stream",
     "text": [
      "C:\\Users\\guido\\AppData\\Local\\Packages\\PythonSoftwareFoundation.Python.3.11_qbz5n2kfra8p0\\LocalCache\\local-packages\\Python311\\site-packages\\numpy\\lib\\function_base.py:520: RuntimeWarning: Mean of empty slice.\n",
      "  avg = a.mean(axis, **keepdims_kw)\n",
      "C:\\Users\\guido\\AppData\\Local\\Packages\\PythonSoftwareFoundation.Python.3.11_qbz5n2kfra8p0\\LocalCache\\local-packages\\Python311\\site-packages\\numpy\\core\\_methods.py:129: RuntimeWarning: invalid value encountered in scalar divide\n",
      "  ret = ret.dtype.type(ret / rcount)\n",
      "C:\\Users\\guido\\AppData\\Local\\Packages\\PythonSoftwareFoundation.Python.3.11_qbz5n2kfra8p0\\LocalCache\\local-packages\\Python311\\site-packages\\numpy\\core\\_methods.py:206: RuntimeWarning: Degrees of freedom <= 0 for slice\n",
      "  ret = _var(a, axis=axis, dtype=dtype, out=out, ddof=ddof,\n",
      "C:\\Users\\guido\\AppData\\Local\\Packages\\PythonSoftwareFoundation.Python.3.11_qbz5n2kfra8p0\\LocalCache\\local-packages\\Python311\\site-packages\\numpy\\core\\_methods.py:163: RuntimeWarning: invalid value encountered in divide\n",
      "  arrmean = um.true_divide(arrmean, div, out=arrmean,\n",
      "C:\\Users\\guido\\AppData\\Local\\Packages\\PythonSoftwareFoundation.Python.3.11_qbz5n2kfra8p0\\LocalCache\\local-packages\\Python311\\site-packages\\numpy\\core\\_methods.py:198: RuntimeWarning: invalid value encountered in scalar divide\n",
      "  ret = ret.dtype.type(ret / rcount)\n"
     ]
    }
   ],
   "source": [
    "read_and_plot_files(\"Ka-Band-Variable\")"
   ]
  },
  {
   "cell_type": "markdown",
   "metadata": {},
   "source": [
    "# Static Weather Results"
   ]
  },
  {
   "cell_type": "code",
   "execution_count": 21,
   "metadata": {},
   "outputs": [
    {
     "name": "stdout",
     "output_type": "stream",
     "text": [
      "\n",
      "Satellite: Packets Lost = 0\n",
      "\n",
      "Average uplink Atmospheric loss (dB): 1.667\n",
      "Stddev uplink Atmospheric loss (dB): 1.491\n",
      "Average downlink Atmospheric loss (dB): 2.200\n",
      "Stddev downlink Atmospheric loss (dB): 1.327\n",
      "\n",
      "Average uplink FSPL (dB): 0.000\n",
      "Stddev uplink FSPL (dB): 0.000\n",
      "Average downlink FSPL (dB): 0.000\n",
      "Stddev downlink FSPL (dB): 0.000\n",
      "\n",
      "Average uplink power (dBm): 199.206\n",
      "Stddev uplink power (dBm): 0.095\n",
      "Average downlink power (dBm): 195.760\n",
      "Stddev downlink power (dBm): 0.128\n"
     ]
    }
   ],
   "source": [
    "read_files(\"C-Band-Sunny\")"
   ]
  },
  {
   "cell_type": "code",
   "execution_count": 22,
   "metadata": {},
   "outputs": [
    {
     "name": "stdout",
     "output_type": "stream",
     "text": [
      "MCC 0: Packets Lost = 0\n",
      "MCC 1: Packets Lost = 0\n",
      "MCC 2: Packets Lost = 0\n",
      "MCC 3: Packets Lost = 0\n",
      "MCC 4: Packets Lost = 0\n",
      "\n",
      "Satellite: Packets Lost = 0\n",
      "\n",
      "Average uplink Atmospheric loss (dB): 0.495\n",
      "Stddev uplink Atmospheric loss (dB): 0.008\n",
      "Average downlink Atmospheric loss (dB): 0.197\n",
      "Stddev downlink Atmospheric loss (dB): 0.005\n",
      "\n",
      "Average uplink FSPL (dB): 199.220\n",
      "Stddev uplink FSPL (dB): 0.091\n",
      "Average downlink FSPL (dB): 195.741\n",
      "Stddev downlink FSPL (dB): 0.106\n",
      "\n",
      "Average uplink power (dBm): -77.163\n",
      "Stddev uplink power (dBm): 0.097\n",
      "Average downlink power (dBm): -109.001\n",
      "Stddev downlink power (dBm): 0.162\n"
     ]
    }
   ],
   "source": [
    "read_files(\"C-Band-Rainy\")"
   ]
  },
  {
   "cell_type": "code",
   "execution_count": 23,
   "metadata": {},
   "outputs": [
    {
     "name": "stdout",
     "output_type": "stream",
     "text": [
      "MCC 0: Packets Lost = 0\n",
      "MCC 1: Packets Lost = 0\n",
      "MCC 2: Packets Lost = 0\n",
      "MCC 3: Packets Lost = 0\n",
      "MCC 4: Packets Lost = 0\n",
      "\n",
      "Satellite: Packets Lost = 0\n",
      "\n",
      "Average uplink Atmospheric loss (dB): 1.260\n",
      "Stddev uplink Atmospheric loss (dB): 0.020\n",
      "Average downlink Atmospheric loss (dB): 0.502\n",
      "Stddev downlink Atmospheric loss (dB): 0.012\n",
      "\n",
      "Average uplink FSPL (dB): 199.220\n",
      "Stddev uplink FSPL (dB): 0.091\n",
      "Average downlink FSPL (dB): 195.741\n",
      "Stddev downlink FSPL (dB): 0.107\n",
      "\n",
      "Average uplink power (dBm): -77.928\n",
      "Stddev uplink power (dBm): 0.107\n",
      "Average downlink power (dBm): -110.070\n",
      "Stddev downlink power (dBm): 0.170\n"
     ]
    }
   ],
   "source": [
    "read_files(\"C-Band-HeavyRain\")"
   ]
  },
  {
   "cell_type": "code",
   "execution_count": 24,
   "metadata": {},
   "outputs": [
    {
     "name": "stdout",
     "output_type": "stream",
     "text": [
      "MCC 0: Packets Lost = 912\n",
      "MCC 1: Packets Lost = 1013\n",
      "MCC 2: Packets Lost = 955\n",
      "MCC 3: Packets Lost = 992\n",
      "MCC 4: Packets Lost = 916\n",
      "\n",
      "Satellite: Packets Lost = 0\n",
      "\n",
      "Average uplink Atmospheric loss (dB): 0.000\n",
      "Stddev uplink Atmospheric loss (dB): 0.000\n",
      "Average downlink Atmospheric loss (dB): 0.000\n",
      "Stddev downlink Atmospheric loss (dB): 0.000\n",
      "\n",
      "Average uplink FSPL (dB): 206.531\n",
      "Stddev uplink FSPL (dB): 0.068\n",
      "Average downlink FSPL (dB): 205.198\n",
      "Stddev downlink FSPL (dB): 0.066\n",
      "\n",
      "Average uplink power (dBm): -83.978\n",
      "Stddev uplink power (dBm): 0.068\n",
      "Average downlink power (dBm): -125.076\n",
      "Stddev downlink power (dBm): 0.126\n"
     ]
    }
   ],
   "source": [
    "read_files(\"Ku-Band-Sunny\")"
   ]
  },
  {
   "cell_type": "code",
   "execution_count": 25,
   "metadata": {},
   "outputs": [
    {
     "name": "stdout",
     "output_type": "stream",
     "text": [
      "MCC 0: Packets Lost = 892\n",
      "MCC 1: Packets Lost = 948\n",
      "MCC 2: Packets Lost = 985\n",
      "MCC 3: Packets Lost = 937\n",
      "MCC 4: Packets Lost = 838\n",
      "\n",
      "Satellite: Packets Lost = 0\n",
      "\n",
      "Average uplink Atmospheric loss (dB): 3.432\n",
      "Stddev uplink Atmospheric loss (dB): 0.024\n",
      "Average downlink Atmospheric loss (dB): 2.411\n",
      "Stddev downlink Atmospheric loss (dB): 0.019\n",
      "\n",
      "Average uplink FSPL (dB): 206.531\n",
      "Stddev uplink FSPL (dB): 0.068\n",
      "Average downlink FSPL (dB): 205.197\n",
      "Stddev downlink FSPL (dB): 0.065\n",
      "\n",
      "Average uplink power (dBm): -87.410\n",
      "Stddev uplink power (dBm): 0.083\n",
      "Average downlink power (dBm): -130.918\n",
      "Stddev downlink power (dBm): 0.137\n"
     ]
    }
   ],
   "source": [
    "read_files(\"Ku-Band-Rainy\")"
   ]
  },
  {
   "cell_type": "code",
   "execution_count": 26,
   "metadata": {},
   "outputs": [
    {
     "name": "stdout",
     "output_type": "stream",
     "text": [
      "MCC 0: Packets Lost = 890\n",
      "MCC 1: Packets Lost = 965\n",
      "MCC 2: Packets Lost = 928\n",
      "MCC 3: Packets Lost = 978\n",
      "MCC 4: Packets Lost = 885\n",
      "\n",
      "Satellite: Packets Lost = 0\n",
      "\n",
      "Average uplink Atmospheric loss (dB): 8.731\n",
      "Stddev uplink Atmospheric loss (dB): 0.061\n",
      "Average downlink Atmospheric loss (dB): 6.135\n",
      "Stddev downlink Atmospheric loss (dB): 0.049\n",
      "\n",
      "Average uplink FSPL (dB): 206.531\n",
      "Stddev uplink FSPL (dB): 0.068\n",
      "Average downlink FSPL (dB): 205.198\n",
      "Stddev downlink FSPL (dB): 0.066\n",
      "\n",
      "Average uplink power (dBm): -92.709\n",
      "Stddev uplink power (dBm): 0.112\n",
      "Average downlink power (dBm): -139.942\n",
      "Stddev downlink power (dBm): 0.164\n"
     ]
    }
   ],
   "source": [
    "read_files(\"Ku-Band-HeavyRain\")"
   ]
  },
  {
   "cell_type": "code",
   "execution_count": 27,
   "metadata": {},
   "outputs": [
    {
     "name": "stdout",
     "output_type": "stream",
     "text": [
      "MCC 0: Packets Lost = 838\n",
      "MCC 1: Packets Lost = 894\n",
      "MCC 2: Packets Lost = 864\n",
      "MCC 3: Packets Lost = 886\n",
      "MCC 4: Packets Lost = 881\n",
      "\n",
      "Satellite: Packets Lost = 0\n",
      "\n",
      "Average uplink Atmospheric loss (dB): 0.000\n",
      "Stddev uplink Atmospheric loss (dB): 0.000\n",
      "Average downlink Atmospheric loss (dB): 0.000\n",
      "Stddev downlink Atmospheric loss (dB): 0.000\n",
      "\n",
      "Average uplink FSPL (dB): 213.131\n",
      "Stddev uplink FSPL (dB): 0.062\n",
      "Average downlink FSPL (dB): 209.618\n",
      "Stddev downlink FSPL (dB): 0.061\n",
      "\n",
      "Average uplink power (dBm): -90.578\n",
      "Stddev uplink power (dBm): 0.062\n",
      "Average downlink power (dBm): -136.096\n",
      "Stddev downlink power (dBm): 0.121\n"
     ]
    }
   ],
   "source": [
    "read_files(\"Ka-Band-Sunny\")"
   ]
  },
  {
   "cell_type": "code",
   "execution_count": 28,
   "metadata": {},
   "outputs": [
    {
     "name": "stdout",
     "output_type": "stream",
     "text": [
      "MCC 0: Packets Lost = 0\n",
      "MCC 1: Packets Lost = 0\n",
      "MCC 2: Packets Lost = 0\n",
      "MCC 3: Packets Lost = 0\n",
      "MCC 4: Packets Lost = 0\n",
      "\n",
      "Satellite: Packets Lost = 5705\n",
      "\n",
      "Average uplink Atmospheric loss (dB): 19.703\n",
      "Stddev uplink Atmospheric loss (dB): 0.064\n",
      "Average downlink Atmospheric loss (dB): nan\n",
      "Stddev downlink Atmospheric loss (dB): nan\n",
      "\n",
      "Average uplink FSPL (dB): 213.131\n",
      "Stddev uplink FSPL (dB): 0.062\n",
      "Average downlink FSPL (dB): nan\n",
      "Stddev downlink FSPL (dB): nan\n",
      "\n"
     ]
    },
    {
     "name": "stderr",
     "output_type": "stream",
     "text": [
      "C:\\Users\\guido\\AppData\\Local\\Packages\\PythonSoftwareFoundation.Python.3.11_qbz5n2kfra8p0\\LocalCache\\local-packages\\Python311\\site-packages\\numpy\\lib\\function_base.py:520: RuntimeWarning: Mean of empty slice.\n",
      "  avg = a.mean(axis, **keepdims_kw)\n",
      "C:\\Users\\guido\\AppData\\Local\\Packages\\PythonSoftwareFoundation.Python.3.11_qbz5n2kfra8p0\\LocalCache\\local-packages\\Python311\\site-packages\\numpy\\core\\_methods.py:129: RuntimeWarning: invalid value encountered in scalar divide\n",
      "  ret = ret.dtype.type(ret / rcount)\n",
      "C:\\Users\\guido\\AppData\\Local\\Packages\\PythonSoftwareFoundation.Python.3.11_qbz5n2kfra8p0\\LocalCache\\local-packages\\Python311\\site-packages\\numpy\\core\\_methods.py:206: RuntimeWarning: Degrees of freedom <= 0 for slice\n",
      "  ret = _var(a, axis=axis, dtype=dtype, out=out, ddof=ddof,\n",
      "C:\\Users\\guido\\AppData\\Local\\Packages\\PythonSoftwareFoundation.Python.3.11_qbz5n2kfra8p0\\LocalCache\\local-packages\\Python311\\site-packages\\numpy\\core\\_methods.py:163: RuntimeWarning: invalid value encountered in divide\n",
      "  arrmean = um.true_divide(arrmean, div, out=arrmean,\n",
      "C:\\Users\\guido\\AppData\\Local\\Packages\\PythonSoftwareFoundation.Python.3.11_qbz5n2kfra8p0\\LocalCache\\local-packages\\Python311\\site-packages\\numpy\\core\\_methods.py:198: RuntimeWarning: invalid value encountered in scalar divide\n",
      "  ret = ret.dtype.type(ret / rcount)\n"
     ]
    },
    {
     "name": "stdout",
     "output_type": "stream",
     "text": [
      "Average uplink power (dBm): -110.281\n",
      "Stddev uplink power (dBm): 0.103\n",
      "Average downlink power (dBm): nan\n",
      "Stddev downlink power (dBm): nan\n"
     ]
    }
   ],
   "source": [
    "read_files(\"Ka-Band-Rainy\")"
   ]
  },
  {
   "cell_type": "code",
   "execution_count": 29,
   "metadata": {},
   "outputs": [
    {
     "name": "stdout",
     "output_type": "stream",
     "text": [
      "MCC 0: Packets Lost = 0\n",
      "MCC 1: Packets Lost = 0\n",
      "MCC 2: Packets Lost = 0\n",
      "MCC 3: Packets Lost = 0\n",
      "MCC 4: Packets Lost = 0\n",
      "\n",
      "Satellite: Packets Lost = 5625\n",
      "\n",
      "Average uplink Atmospheric loss (dB): 50.128\n",
      "Stddev uplink Atmospheric loss (dB): 0.163\n",
      "Average downlink Atmospheric loss (dB): nan\n",
      "Stddev downlink Atmospheric loss (dB): nan\n",
      "\n",
      "Average uplink FSPL (dB): 213.131\n",
      "Stddev uplink FSPL (dB): 0.062\n",
      "Average downlink FSPL (dB): nan\n",
      "Stddev downlink FSPL (dB): nan\n",
      "\n"
     ]
    },
    {
     "name": "stderr",
     "output_type": "stream",
     "text": [
      "C:\\Users\\guido\\AppData\\Local\\Packages\\PythonSoftwareFoundation.Python.3.11_qbz5n2kfra8p0\\LocalCache\\local-packages\\Python311\\site-packages\\numpy\\lib\\function_base.py:520: RuntimeWarning: Mean of empty slice.\n",
      "  avg = a.mean(axis, **keepdims_kw)\n",
      "C:\\Users\\guido\\AppData\\Local\\Packages\\PythonSoftwareFoundation.Python.3.11_qbz5n2kfra8p0\\LocalCache\\local-packages\\Python311\\site-packages\\numpy\\core\\_methods.py:129: RuntimeWarning: invalid value encountered in scalar divide\n",
      "  ret = ret.dtype.type(ret / rcount)\n",
      "C:\\Users\\guido\\AppData\\Local\\Packages\\PythonSoftwareFoundation.Python.3.11_qbz5n2kfra8p0\\LocalCache\\local-packages\\Python311\\site-packages\\numpy\\core\\_methods.py:206: RuntimeWarning: Degrees of freedom <= 0 for slice\n",
      "  ret = _var(a, axis=axis, dtype=dtype, out=out, ddof=ddof,\n",
      "C:\\Users\\guido\\AppData\\Local\\Packages\\PythonSoftwareFoundation.Python.3.11_qbz5n2kfra8p0\\LocalCache\\local-packages\\Python311\\site-packages\\numpy\\core\\_methods.py:163: RuntimeWarning: invalid value encountered in divide\n",
      "  arrmean = um.true_divide(arrmean, div, out=arrmean,\n",
      "C:\\Users\\guido\\AppData\\Local\\Packages\\PythonSoftwareFoundation.Python.3.11_qbz5n2kfra8p0\\LocalCache\\local-packages\\Python311\\site-packages\\numpy\\core\\_methods.py:198: RuntimeWarning: invalid value encountered in scalar divide\n",
      "  ret = ret.dtype.type(ret / rcount)\n"
     ]
    },
    {
     "name": "stdout",
     "output_type": "stream",
     "text": [
      "Average uplink power (dBm): -140.706\n",
      "Stddev uplink power (dBm): 0.192\n",
      "Average downlink power (dBm): nan\n",
      "Stddev downlink power (dBm): nan\n"
     ]
    }
   ],
   "source": [
    "read_files(\"Ka-Band-HeavyRain\")"
   ]
  },
  {
   "cell_type": "code",
   "execution_count": 30,
   "metadata": {},
   "outputs": [
    {
     "name": "stdout",
     "output_type": "stream",
     "text": [
      "MCC 0: Packets Sent = 1014\n",
      "MCC 0: Packets Lost = 0\n",
      "MCC 1: Packets Sent = 1014\n",
      "MCC 1: Packets Lost = 0\n",
      "MCC 2: Packets Sent = 1014\n",
      "MCC 2: Packets Lost = 0\n",
      "MCC 3: Packets Sent = 1014\n",
      "MCC 3: Packets Lost = 0\n",
      "MCC 4: Packets Sent = 1014\n",
      "MCC 4: Packets Lost = 0\n",
      "\n",
      "Satellite: Packets Sent = 5062\n",
      "Satellite: Packets Lost = 0\n",
      "\n",
      "Average uplink Atmospheric loss (dB): 2.000\n",
      "Stddev uplink Atmospheric loss (dB): 1.414\n",
      "Average downlink Atmospheric loss (dB): 1.977\n",
      "Stddev downlink Atmospheric loss (dB): 1.409\n",
      "\n",
      "Average uplink FSPL (dB): 0.001\n",
      "Stddev uplink FSPL (dB): 0.002\n",
      "Average downlink FSPL (dB): 0.000\n",
      "Stddev downlink FSPL (dB): 0.000\n",
      "\n",
      "Average uplink power (dBm): 0.037\n",
      "Stddev uplink power (dBm): 0.118\n",
      "Average downlink power (dBm): 0.070\n",
      "Stddev downlink power (dBm): 0.226\n"
     ]
    }
   ],
   "source": [
    "read_files(\"C-Band-Variable\")"
   ]
  }
 ],
 "metadata": {
  "kernelspec": {
   "display_name": "Python 3",
   "language": "python",
   "name": "python3"
  },
  "language_info": {
   "codemirror_mode": {
    "name": "ipython",
    "version": 3
   },
   "file_extension": ".py",
   "mimetype": "text/x-python",
   "name": "python",
   "nbconvert_exporter": "python",
   "pygments_lexer": "ipython3",
   "version": "3.11.9"
  }
 },
 "nbformat": 4,
 "nbformat_minor": 2
}
